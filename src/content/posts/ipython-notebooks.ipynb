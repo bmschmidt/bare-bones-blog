{
 "cells": [
  {
   "attachments": {},
   "cell_type": "markdown",
   "metadata": {},
   "source": [
    "# IPython Notebook\n",
    "\n",
    "Can we import an IPython notebook with pandoc directly? What happens?"
   ]
  },
  {
   "cell_type": "code",
   "execution_count": 4,
   "metadata": {},
   "outputs": [
    {
     "name": "stdout",
     "output_type": "stream",
     "text": [
      "0    \u0000 \u0001 \u0002 \u0003 \u0004 \u0005 \u0006 \u0007 \t \n",
      " \u000e \u000f \n",
      "1    \u0010 \u0011 \u0012 \u0013 \u0014 \u0015 \u0016 \u0017 \u0018 \u0019 \u001a \u001b \u001c \u001d \u001e \u001f\n",
      "2      ! \" # $ % & ' ( ) * + , - . /\n",
      "3    0 1 2 3 4 5 6 7 8 9 : ; < = > ?\n",
      "4    @ A B C D E F G H I J K L M N O\n",
      "5    P Q R S T U V W X Y Z [ \\ ] ^ _\n",
      "6    ` a b c d e f g h i j k l m n o\n",
      "7    p q r s t u v w x y z { | } ~ \n",
      "8                   \n",
      "9                   \n",
      "10      ¡ ¢ £ ¤ ¥ ¦ § ¨ © ª « ¬ ­ ® ¯\n",
      "11    ° ± ² ³ ´ µ ¶ · ¸ ¹ º » ¼ ½ ¾ ¿\n",
      "12    À Á Â Ã Ä Å Æ Ç È É Ê Ë Ì Í Î Ï\n",
      "13    Ð Ñ Ò Ó Ô Õ Ö × Ø Ù Ú Û Ü Ý Þ ß\n",
      "14    à á â ã ä å æ ç è é ê ë ì í î ï\n",
      "15    ð ñ ò ó ô õ ö ÷ ø ù ú û ü ý þ ÿ\n"
     ]
    }
   ],
   "source": [
    "for i in range(16):\n",
    "    letters = \"\"\n",
    "    for j in range(16):\n",
    "        letters += \" \" + chr(j + i*16)\n",
    "    print(i, \" \", letters)\n",
    "        "
   ]
  }
 ],
 "metadata": {
  "kernelspec": {
   "display_name": "Python 3",
   "language": "python",
   "name": "python3"
  },
  "language_info": {
   "codemirror_mode": {
    "name": "ipython",
    "version": 3
   },
   "file_extension": ".py",
   "mimetype": "text/x-python",
   "name": "python",
   "nbconvert_exporter": "python",
   "pygments_lexer": "ipython3",
   "version": "3.9.15"
  },
  "orig_nbformat": 4,
  "vscode": {
   "interpreter": {
    "hash": "a665b5d41d17b532ea9890333293a1b812fa0b73c9c25c950b3cedf1bebd0438"
   }
  }
 },
 "nbformat": 4,
 "nbformat_minor": 2
}
